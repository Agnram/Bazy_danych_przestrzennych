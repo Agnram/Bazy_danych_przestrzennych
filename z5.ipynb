{
 "cells": [
  {
   "cell_type": "code",
   "execution_count": 1,
   "id": "c8c4d7e6",
   "metadata": {},
   "outputs": [],
   "source": [
    "import requests"
   ]
  },
  {
   "cell_type": "code",
   "execution_count": null,
   "id": "74a3a91b",
   "metadata": {},
   "outputs": [],
   "source": [
    "url = 'http://AGNIESZKA/fmejobsubmitter/Dashboards/cw10.fmw?email=agnieszkaramian5%40gmail.com&haslo=&email_klient=agnieszkaramian5%40gmail.com&powiat=powiat%20tarnowski&zachmurzenie=21&data_poczatkowa=20230707000000&data_koncowa=20230708000000&SourceDataset_SHAPEFILE_5=D%3A%5CStudiowe_rzeczy%5Cbazy_przestrzenne%5CDane_cw10%5Cpowiaty%5Cpowiaty.shp&SourceDataset_SHAPEFILE=D%3A%5CStudiowe_rzeczy%5Cbazy_przestrzenne%5CDane_cw10%5Cp2%5Cpowiaty%5Cpowiaty.shp&opt_showresult=false&opt_servicemode=sync'\n",
    "header = {'Authorization': 'fmetoken token=8426f2cbdcaaa7630ef87140cbae7bf754bc0947'}\n",
    "\n",
    "request = requests.post(url, headers = header)"
   ]
  },
  {
   "cell_type": "code",
   "execution_count": null,
   "id": "e1269938",
   "metadata": {},
   "outputs": [],
   "source": [
    "print(request.text)"
   ]
  }
 ],
 "metadata": {
  "kernelspec": {
   "display_name": "Python 3",
   "language": "python",
   "name": "python3"
  },
  "language_info": {
   "codemirror_mode": {
    "name": "ipython",
    "version": 3
   },
   "file_extension": ".py",
   "mimetype": "text/x-python",
   "name": "python",
   "nbconvert_exporter": "python",
   "pygments_lexer": "ipython3",
   "version": "3.9.11"
  }
 },
 "nbformat": 4,
 "nbformat_minor": 5
}
